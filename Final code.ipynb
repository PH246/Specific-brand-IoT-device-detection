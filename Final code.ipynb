{
 "cells": [
  {
   "cell_type": "code",
   "execution_count": 1,
   "metadata": {},
   "outputs": [
    {
     "name": "stderr",
     "output_type": "stream",
     "text": [
      "c:\\Users\\USER\\AppData\\Local\\Programs\\Python\\Python310\\lib\\site-packages\\sklearn\\metrics\\_classification.py:1344: UndefinedMetricWarning: Precision is ill-defined and being set to 0.0 in labels with no predicted samples. Use `zero_division` parameter to control this behavior.\n",
      "  _warn_prf(average, modifier, msg_start, len(result))\n",
      "c:\\Users\\USER\\AppData\\Local\\Programs\\Python\\Python310\\lib\\site-packages\\sklearn\\metrics\\_classification.py:1344: UndefinedMetricWarning: Precision and F-score are ill-defined and being set to 0.0 in labels with no predicted samples. Use `zero_division` parameter to control this behavior.\n",
      "  _warn_prf(average, modifier, msg_start, len(result))\n",
      "c:\\Users\\USER\\AppData\\Local\\Programs\\Python\\Python310\\lib\\site-packages\\sklearn\\metrics\\_classification.py:1344: UndefinedMetricWarning: Precision and F-score are ill-defined and being set to 0.0 in labels with no predicted samples. Use `zero_division` parameter to control this behavior.\n",
      "  _warn_prf(average, modifier, msg_start, len(result))\n",
      "c:\\Users\\USER\\AppData\\Local\\Programs\\Python\\Python310\\lib\\site-packages\\sklearn\\metrics\\_classification.py:1344: UndefinedMetricWarning: Precision and F-score are ill-defined and being set to 0.0 in labels with no predicted samples. Use `zero_division` parameter to control this behavior.\n",
      "  _warn_prf(average, modifier, msg_start, len(result))\n"
     ]
    },
    {
     "name": "stdout",
     "output_type": "stream",
     "text": [
      "device - Stacking Ensemble Accuracy: 0.990625\n",
      "device - Stacking Ensemble Precision: 0.981337890625\n",
      "device - Stacking Ensemble Recall: 0.990625\n",
      "device - Stacking Ensemble f1 score: 0.9859595761381476\n",
      "\n",
      "Classification Report for device:\n",
      "                        precision    recall  f1-score   support\n",
      "\n",
      "Environmental detector       0.00      0.00      0.00         1\n",
      "        Non IoT-device       0.99      1.00      1.00       317\n",
      "       Security camera       0.00      0.00      0.00         2\n",
      "\n",
      "              accuracy                           0.99       320\n",
      "             macro avg       0.33      0.33      0.33       320\n",
      "          weighted avg       0.98      0.99      0.99       320\n",
      "\n",
      "\n",
      "\n",
      "Status - Stacking Ensemble Accuracy: 0.990625\n",
      "Status - Stacking Ensemble Precision: 0.981337890625\n",
      "Status - Stacking Ensemble Recall: 0.990625\n",
      "Status - Stacking Ensemble f1 score: 0.9859595761381476\n",
      "\n",
      "Classification Report for Status:\n",
      "               precision    recall  f1-score   support\n",
      "\n",
      "      Foreign       0.00      0.00      0.00         2\n",
      "        Local       0.00      0.00      0.00         1\n",
      "Not Available       0.99      1.00      1.00       317\n",
      "\n",
      "     accuracy                           0.99       320\n",
      "    macro avg       0.33      0.33      0.33       320\n",
      " weighted avg       0.98      0.99      0.99       320\n",
      "\n",
      "\n",
      "\n"
     ]
    },
    {
     "name": "stderr",
     "output_type": "stream",
     "text": [
      "c:\\Users\\USER\\AppData\\Local\\Programs\\Python\\Python310\\lib\\site-packages\\sklearn\\metrics\\_classification.py:1344: UndefinedMetricWarning: Precision is ill-defined and being set to 0.0 in labels with no predicted samples. Use `zero_division` parameter to control this behavior.\n",
      "  _warn_prf(average, modifier, msg_start, len(result))\n",
      "c:\\Users\\USER\\AppData\\Local\\Programs\\Python\\Python310\\lib\\site-packages\\sklearn\\metrics\\_classification.py:1344: UndefinedMetricWarning: Precision and F-score are ill-defined and being set to 0.0 in labels with no predicted samples. Use `zero_division` parameter to control this behavior.\n",
      "  _warn_prf(average, modifier, msg_start, len(result))\n",
      "c:\\Users\\USER\\AppData\\Local\\Programs\\Python\\Python310\\lib\\site-packages\\sklearn\\metrics\\_classification.py:1344: UndefinedMetricWarning: Precision and F-score are ill-defined and being set to 0.0 in labels with no predicted samples. Use `zero_division` parameter to control this behavior.\n",
      "  _warn_prf(average, modifier, msg_start, len(result))\n",
      "c:\\Users\\USER\\AppData\\Local\\Programs\\Python\\Python310\\lib\\site-packages\\sklearn\\metrics\\_classification.py:1344: UndefinedMetricWarning: Precision and F-score are ill-defined and being set to 0.0 in labels with no predicted samples. Use `zero_division` parameter to control this behavior.\n",
      "  _warn_prf(average, modifier, msg_start, len(result))\n"
     ]
    },
    {
     "data": {
      "image/png": "[encoded data removed]",
      "text/plain": [
       "<Figure size 432x288 with 2 Axes>"
      ]
     },
     "metadata": {
      "needs_background": "light"
     },
     "output_type": "display_data"
    },
    {
     "data": {
      "image/png": "[encoded data removed]",
      "text/plain": [
       "<Figure size 432x288 with 2 Axes>"
      ]
     },
     "metadata": {
      "needs_background": "light"
     },
     "output_type": "display_data"
    }
   ],
   "source": [
    "from sklearn.ensemble import RandomForestClassifier\n",
    "from sklearn.model_selection import train_test_split\n",
    "from sklearn.multioutput import MultiOutputClassifier\n",
    "from sklearn.linear_model import LogisticRegression\n",
    "from sklearn.metrics import accuracy_score, precision_score, recall_score, f1_score, classification_report, confusion_matrix, ConfusionMatrixDisplay\n",
    "from catboost import CatBoostClassifier\n",
    "from sklearn.utils.class_weight import compute_class_weight\n",
    "import numpy as np\n",
    "import pandas as pd\n",
    "\n",
    "\n",
    "# Load data\n",
    "data = pd.read_csv('Updated_sample.csv')\n",
    "\n",
    "# Define features and target columns\n",
    "features = ['IP address', 'Protocol', 'Packet Size', 'Flow Duration', 'Packets per Second', 'Min Flow Time', 'Mean Flow Time', 'Max Flow Time', 'Communication_Frequency']\n",
    "target = ['device', 'Status'] \n",
    "\n",
    "# Extract features and target from the DataFrame\n",
    "X = data[features]\n",
    "y = data[target]\n",
    "\n",
    "# One-hot encode categorical features\n",
    "X = pd.get_dummies(X, columns=['IP address', 'Protocol'])\n",
    "\n",
    "# Compute class weights for the target\n",
    "class_weights_device = compute_class_weight('balanced', classes=np.unique(y['device']), y=y['device'])\n",
    "class_weights_status = compute_class_weight('balanced', classes=np.unique(y['Status']), y=y['Status'])\n",
    "\n",
    "# Create a dictionary of class weights for MultiOutputClassifier\n",
    "class_weights = [{'device': class_weights_device, 'Status': class_weights_status}]\n",
    "\n",
    "# Split data into training and testing sets\n",
    "X_train, X_test, y_train, y_test = train_test_split(X, y, test_size=0.2, random_state=42)\n",
    "\n",
    "# Initialize base models\n",
    "rf = MultiOutputClassifier(RandomForestClassifier(n_estimators=100, random_state=42, class_weight= 'balanced'))\n",
    "gbm = MultiOutputClassifier(CatBoostClassifier(iterations=100, random_state=42, verbose=0))\n",
    "\n",
    "# Train base models\n",
    "rf.fit(X_train, y_train)\n",
    "gbm.fit(X_train, y_train)\n",
    "\n",
    "# Generate predictions for the training set (meta-features)\n",
    "rf_train_preds = np.column_stack([estimator.predict_proba(X_train)[:, 1] for estimator in rf.estimators_])\n",
    "gbm_train_preds = np.column_stack([estimator.predict_proba(X_train)[:, 1] for estimator in gbm.estimators_])\n",
    "\n",
    "# Combine predictions as features for the meta-model\n",
    "meta_features_train = np.hstack((rf_train_preds, gbm_train_preds))\n",
    "\n",
    "# Train meta-model\n",
    "meta_model = MultiOutputClassifier(LogisticRegression(random_state=42))\n",
    "meta_model.fit(meta_features_train, y_train)\n",
    "\n",
    "# Predictions on the test set\n",
    "rf_test_preds = np.column_stack([estimator.predict_proba(X_test)[:, 1] for estimator in rf.estimators_])\n",
    "gbm_test_preds = np.column_stack([estimator.predict_proba(X_test)[:, 1] for estimator in gbm.estimators_])\n",
    "\n",
    "meta_features_test = np.hstack((rf_test_preds, gbm_test_preds))\n",
    "final_preds = meta_model.predict(meta_features_test)\n",
    "\n",
    "# Evaluate each output\n",
    "for i, col in enumerate(target):\n",
    "    accuracy = accuracy_score(y_test.iloc[:, i], final_preds[:, i])\n",
    "    precision = precision_score(y_test.iloc[:, i], final_preds[:, i], average='weighted')\n",
    "    recall = recall_score(y_test.iloc[:, i], final_preds[:, i], average='weighted')\n",
    "    f1 = f1_score(y_test.iloc[:, i], final_preds[:, i], average='weighted')\n",
    "\n",
    "    print(f\"{col} - Stacking Ensemble Accuracy: {accuracy}\")\n",
    "    print(f\"{col} - Stacking Ensemble Precision: {precision}\")\n",
    "    print(f\"{col} - Stacking Ensemble Recall: {recall}\")\n",
    "    print(f\"{col} - Stacking Ensemble f1 score: {f1}\")\n",
    "    print()\n",
    "    print(f\"Classification Report for {col}:\")\n",
    "    print(classification_report(y_test[col], final_preds[:, i]))\n",
    "    print()\n",
    "    ConfusionMatrixDisplay.from_predictions(y_test.iloc[:, i], final_preds[:, i])\n",
    "    print()\n"
   ]
  }
 ],
 "metadata": {
  "kernelspec": {
   "display_name": "Python 3",
   "language": "python",
   "name": "python3"
  },
  "language_info": {
   "codemirror_mode": {
    "name": "ipython",
    "version": 3
   },
   "file_extension": ".py",
   "mimetype": "text/x-python",
   "name": "python",
   "nbconvert_exporter": "python",
   "pygments_lexer": "ipython3",
   "version": "3.10.2"
  }
 },
 "nbformat": 4,
 "nbformat_minor": 2
}
