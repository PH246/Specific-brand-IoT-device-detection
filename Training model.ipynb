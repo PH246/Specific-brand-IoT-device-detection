{
 "cells": [
  {
   "cell_type": "markdown",
   "metadata": {},
   "source": [
    "## Random Forest"
   ]
  },
  {
   "cell_type": "code",
   "execution_count": 2,
   "metadata": {},
   "outputs": [
    {
     "name": "stdout",
     "output_type": "stream",
     "text": [
      "device                  Status       \n",
      "Non IoT-device          Not Available    1589\n",
      "Security camera         Foreign             5\n",
      "Environmental detector  Local               4\n",
      "Smart LED bulb          Foreign             2\n",
      "dtype: int64\n",
      "\n",
      "Result for device:\n",
      "Accuracy: 0.990625\n",
      "Precision: 0.981337890625\n",
      "Recall: 0.990625\n",
      "F1 Score: 0.9859595761381476\n",
      "\n",
      "Result for Status:\n",
      "Accuracy: 0.990625\n",
      "Precision: 0.981337890625\n",
      "Recall: 0.990625\n",
      "F1 Score: 0.9859595761381476\n",
      "\n"
     ]
    },
    {
     "name": "stderr",
     "output_type": "stream",
     "text": [
      "c:\\Users\\USER\\AppData\\Local\\Programs\\Python\\Python310\\lib\\site-packages\\sklearn\\metrics\\_classification.py:1344: UndefinedMetricWarning: Precision is ill-defined and being set to 0.0 in labels with no predicted samples. Use `zero_division` parameter to control this behavior.\n",
      "  _warn_prf(average, modifier, msg_start, len(result))\n",
      "c:\\Users\\USER\\AppData\\Local\\Programs\\Python\\Python310\\lib\\site-packages\\sklearn\\metrics\\_classification.py:1344: UndefinedMetricWarning: Precision is ill-defined and being set to 0.0 in labels with no predicted samples. Use `zero_division` parameter to control this behavior.\n",
      "  _warn_prf(average, modifier, msg_start, len(result))\n"
     ]
    }
   ],
   "source": [
    "import pandas as pd\n",
    "import numpy as np\n",
    "from sklearn.model_selection import train_test_split\n",
    "from sklearn.ensemble import RandomForestClassifier\n",
    "from sklearn.multioutput import MultiOutputClassifier\n",
    "from sklearn.metrics import accuracy_score, precision_score, recall_score, f1_score\n",
    "\n",
    "data = pd.read_csv('Updated_sample.csv')\n",
    "\n",
    "features = ['IP address', 'Protocol', 'Packet Size', 'Flow Duration', 'Packets per Second', 'Min Flow Time', 'Mean Flow Time', 'Max Flow Time', 'Communication_Frequency']\n",
    "target = ['device', 'Status']  \n",
    "\n",
    "X = data[features]\n",
    "y = data[target]\n",
    "\n",
    "print(y.value_counts())\n",
    "print()\n",
    "\n",
    "X = pd.get_dummies(X, columns=['IP address', 'Protocol'])\n",
    "\n",
    "X_train, X_test, y_train, y_test = train_test_split(X, y, test_size=0.2, random_state=42)\n",
    "\n",
    "RF = RandomForestClassifier(n_estimators=100, random_state=42, class_weight= 'balanced')\n",
    "multi_target_RF = MultiOutputClassifier(RF, n_jobs=-1)\n",
    "\n",
    "multi_target_RF.fit(X_train, y_train)\n",
    "\n",
    "y_pred = multi_target_RF.predict(X_test)\n",
    "\n",
    "for i, target in enumerate(target):\n",
    "    print(f\"Result for {target}:\")\n",
    "    print(f\"Accuracy: {accuracy_score(y_test.iloc[:, i], y_pred[:, i])}\")\n",
    "    print(f\"Precision: {precision_score(y_test.iloc[:, i], y_pred[:, i], average='weighted')}\")\n",
    "    print(f\"Recall: {recall_score(y_test.iloc[:, i], y_pred[:, i], average='weighted')}\")\n",
    "    print(f\"F1 Score: {f1_score(y_test.iloc[:, i], y_pred[:, i], average='weighted')}\")\n",
    "    print()\n"
   ]
  },
  {
   "cell_type": "markdown",
   "metadata": {},
   "source": [
    "## Gradient Boosting"
   ]
  },
  {
   "cell_type": "code",
   "execution_count": 5,
   "metadata": {},
   "outputs": [
    {
     "name": "stdout",
     "output_type": "stream",
     "text": [
      "Result for device:\n",
      "Accuracy: 0.996875\n",
      "Precision: 0.9937597962382444\n",
      "Recall: 0.996875\n",
      "F1 Score: 0.9953149529042387\n",
      "\n",
      "Result for Status:\n",
      "Accuracy: 0.996875\n",
      "Precision: 0.9937597962382444\n",
      "Recall: 0.996875\n",
      "F1 Score: 0.9953149529042387\n",
      "\n"
     ]
    },
    {
     "name": "stderr",
     "output_type": "stream",
     "text": [
      "c:\\Users\\USER\\AppData\\Local\\Programs\\Python\\Python310\\lib\\site-packages\\sklearn\\metrics\\_classification.py:1344: UndefinedMetricWarning: Precision is ill-defined and being set to 0.0 in labels with no predicted samples. Use `zero_division` parameter to control this behavior.\n",
      "  _warn_prf(average, modifier, msg_start, len(result))\n",
      "c:\\Users\\USER\\AppData\\Local\\Programs\\Python\\Python310\\lib\\site-packages\\sklearn\\metrics\\_classification.py:1344: UndefinedMetricWarning: Precision is ill-defined and being set to 0.0 in labels with no predicted samples. Use `zero_division` parameter to control this behavior.\n",
      "  _warn_prf(average, modifier, msg_start, len(result))\n"
     ]
    }
   ],
   "source": [
    "import pandas as pd\n",
    "from sklearn.model_selection import train_test_split\n",
    "from sklearn.ensemble import GradientBoostingClassifier\n",
    "from sklearn.multioutput import MultiOutputClassifier\n",
    "from sklearn.metrics import accuracy_score, precision_score, recall_score, f1_score\n",
    "\n",
    "data = pd.read_csv('Updated_sample.csv')\n",
    "\n",
    "features = ['IP address', 'Protocol', 'Packet Size', 'Flow Duration', 'Packets per Second', 'Min Flow Time', 'Mean Flow Time', 'Max Flow Time', 'Communication_Frequency']\n",
    "target = ['device', 'Status'] \n",
    "\n",
    "X = data[features]\n",
    "y = data[target]\n",
    "\n",
    "X = pd.get_dummies(X, columns=['IP address', 'Protocol'])\n",
    "\n",
    "X_train, X_test, y_train, y_test = train_test_split(X, y, test_size=0.2, random_state=42)\n",
    "\n",
    "GB = GradientBoostingClassifier(n_estimators=100, random_state=42)\n",
    "multi_GB = MultiOutputClassifier(GB, n_jobs=-1)\n",
    "\n",
    "multi_GB.fit(X_train, y_train)\n",
    "\n",
    "y_pred = multi_GB.predict(X_test)\n",
    "\n",
    "for i, target in enumerate(target):\n",
    "    print(f\"Result for {target}:\")\n",
    "    print(f\"Accuracy: {accuracy_score(y_test.iloc[:, i], y_pred[:, i])}\")\n",
    "    print(f\"Precision: {precision_score(y_test.iloc[:, i], y_pred[:, i], average='weighted')}\")\n",
    "    print(f\"Recall: {recall_score(y_test.iloc[:, i], y_pred[:, i], average='weighted')}\")\n",
    "    print(f\"F1 Score: {f1_score(y_test.iloc[:, i], y_pred[:, i], average='weighted')}\")\n",
    "    print()\n"
   ]
  },
  {
   "cell_type": "markdown",
   "metadata": {},
   "source": [
    "## CatBoost"
   ]
  },
  {
   "cell_type": "code",
   "execution_count": 3,
   "metadata": {},
   "outputs": [
    {
     "name": "stdout",
     "output_type": "stream",
     "text": [
      "Results for device:\n",
      "Accuracy: 1.0\n",
      "Precision: 1.0\n",
      "Recall: 1.0\n",
      "Classification Report for device:\n",
      "                        precision    recall  f1-score   support\n",
      "\n",
      "Environmental detector       1.00      1.00      1.00         1\n",
      "        Non IoT-device       1.00      1.00      1.00       317\n",
      "       Security camera       1.00      1.00      1.00         2\n",
      "\n",
      "              accuracy                           1.00       320\n",
      "             macro avg       1.00      1.00      1.00       320\n",
      "          weighted avg       1.00      1.00      1.00       320\n",
      "\n",
      "Confusion Matrix for device:\n",
      "\n",
      "Results for Status:\n",
      "Accuracy: 1.0\n",
      "Precision: 1.0\n",
      "Recall: 1.0\n",
      "Classification Report for Status:\n",
      "               precision    recall  f1-score   support\n",
      "\n",
      "      Foreign       1.00      1.00      1.00         2\n",
      "        Local       1.00      1.00      1.00         1\n",
      "Not Available       1.00      1.00      1.00       317\n",
      "\n",
      "     accuracy                           1.00       320\n",
      "    macro avg       1.00      1.00      1.00       320\n",
      " weighted avg       1.00      1.00      1.00       320\n",
      "\n",
      "Confusion Matrix for Status:\n",
      "\n"
     ]
    },
    {
     "data": {
      "image/png": "[encoded data removed]",
      "text/plain": [
       "<Figure size 432x288 with 2 Axes>"
      ]
     },
     "metadata": {
      "needs_background": "light"
     },
     "output_type": "display_data"
    },
    {
     "data": {
      "image/png": "[encoded data removed]",
      "text/plain": [
       "<Figure size 432x288 with 2 Axes>"
      ]
     },
     "metadata": {
      "needs_background": "light"
     },
     "output_type": "display_data"
    }
   ],
   "source": [
    "import pandas as pd\n",
    "from sklearn.model_selection import train_test_split\n",
    "from sklearn.multioutput import MultiOutputClassifier\n",
    "from sklearn.metrics import accuracy_score, precision_score, recall_score, classification_report, confusion_matrix, ConfusionMatrixDisplay\n",
    "from catboost import CatBoostClassifier\n",
    "\n",
    "# Load the dataset\n",
    "data = pd.read_csv('Updated_sample.csv')\n",
    "\n",
    "# Select features and target columns\n",
    "features = ['IP address', 'Protocol', 'Packet Size', 'Flow Duration', 'Packets per Second', 'Min Flow Time', 'Mean Flow Time', 'Max Flow Time', 'Communication_Frequency']\n",
    "target = ['device', 'Status']\n",
    "\n",
    "# Extract features and targets from the DataFrame and encode categorical features\n",
    "X = data[features]\n",
    "y = data[target]\n",
    "\n",
    "# One-hot encode categorical features\n",
    "X = pd.get_dummies(X, columns=['IP address', 'Protocol'])\n",
    "\n",
    "# Split the data into training and testing sets\n",
    "X_train, X_test, y_train, y_test = train_test_split(X, y, test_size=0.2, random_state=42)\n",
    "\n",
    "# Initialize and train the CatBoost model using MultiOutputClassifier\n",
    "model = CatBoostClassifier(iterations=100, random_state=42, verbose=0, loss_function=\"MultiClass\")\n",
    "multi_cb = MultiOutputClassifier(model, n_jobs=-1)\n",
    "\n",
    "# Fit the model\n",
    "multi_cb.fit(X_train, y_train)\n",
    "\n",
    "# Predict on the test set\n",
    "y_pred = multi_cb.predict(X_test)\n",
    "\n",
    "y_pred = y_pred.squeeze()\n",
    "\n",
    "# Calculate and print evaluation metrics for each target\n",
    "for i, target_name in enumerate(target):\n",
    "    print(f\"Results for {target_name}:\")\n",
    "    print(f\"Accuracy: {accuracy_score(y_test[target_name], y_pred[:, i])}\")\n",
    "    print(f\"Precision: {precision_score(y_test[target_name], y_pred[:, i], average='weighted')}\")\n",
    "    print(f\"Recall: {recall_score(y_test[target_name], y_pred[:, i], average='weighted')}\")\n",
    "    print(f\"Classification Report for {target_name}:\")\n",
    "    print(classification_report(y_test[target_name], y_pred[:, i]))\n",
    "    print(f\"Confusion Matrix for {target_name}:\")\n",
    "    ConfusionMatrixDisplay.from_predictions(y_test.iloc[:, i], y_pred[:, i])\n",
    "    print()"
   ]
  }
 ],
 "metadata": {
  "kernelspec": {
   "display_name": "Python 3",
   "language": "python",
   "name": "python3"
  },
  "language_info": {
   "codemirror_mode": {
    "name": "ipython",
    "version": 3
   },
   "file_extension": ".py",
   "mimetype": "text/x-python",
   "name": "python",
   "nbconvert_exporter": "python",
   "pygments_lexer": "ipython3",
   "version": "3.10.2"
  }
 },
 "nbformat": 4,
 "nbformat_minor": 2
}
